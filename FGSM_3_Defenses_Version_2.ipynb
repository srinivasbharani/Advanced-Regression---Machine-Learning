{
  "nbformat": 4,
  "nbformat_minor": 0,
  "metadata": {
    "colab": {
      "provenance": [],
      "authorship_tag": "ABX9TyNvAaCy14gveEIC3V4n1ZMl",
      "include_colab_link": true
    },
    "kernelspec": {
      "name": "python3",
      "display_name": "Python 3"
    },
    "language_info": {
      "name": "python"
    }
  },
  "cells": [
    {
      "cell_type": "markdown",
      "metadata": {
        "id": "view-in-github",
        "colab_type": "text"
      },
      "source": [
        "<a href=\"https://colab.research.google.com/github/srinivasbharani/Advanced-Regression---Machine-Learning/blob/main/FGSM_3_Defenses_Version_2.ipynb\" target=\"_parent\"><img src=\"https://colab.research.google.com/assets/colab-badge.svg\" alt=\"Open In Colab\"/></a>"
      ]
    },
    {
      "cell_type": "code",
      "execution_count": null,
      "metadata": {
        "id": "g8be5yNOCPF0"
      },
      "outputs": [],
      "source": [
        "import tensorflow as tf\n",
        "from tensorflow.keras import layers, models, datasets, utils\n",
        "import numpy as np\n",
        "import matplotlib.pyplot as plt\n",
        "import seaborn as sns\n",
        "from sklearn.metrics import confusion_matrix"
      ]
    },
    {
      "cell_type": "code",
      "source": [
        "# Load CIFAR-10 dataset\n",
        "(x_train, y_train), (x_test, y_test) = datasets.cifar10.load_data()\n",
        "\n",
        "# Normalize pixel values to [0, 1]\n",
        "x_train, x_test = x_train / 255.0, x_test / 255.0\n",
        "\n",
        "# Convert labels to one-hot encoded vectors\n",
        "y_train = utils.to_categorical(y_train, num_classes=10)\n",
        "y_test = utils.to_categorical(y_test, num_classes=10)"
      ],
      "metadata": {
        "id": "f-S5_1dRGlRU"
      },
      "execution_count": null,
      "outputs": []
    },
    {
      "cell_type": "code",
      "source": [
        "# Create DNN model\n",
        "def create_model():\n",
        "    model = models.Sequential([\n",
        "        layers.Conv2D(32, (3, 3), activation='relu', input_shape=(32, 32, 3)),\n",
        "        layers.MaxPooling2D((2, 2)),\n",
        "        layers.Conv2D(64, (3, 3), activation='relu'),\n",
        "        layers.MaxPooling2D((2, 2)),\n",
        "        layers.Conv2D(64, (3, 3), activation='relu'),\n",
        "        layers.Flatten(),\n",
        "        layers.Dense(64, activation='relu'),\n",
        "        layers.Dense(10, activation='softmax')\n",
        "    ])\n",
        "    return model"
      ],
      "metadata": {
        "id": "d1Uw0acpGnnk"
      },
      "execution_count": null,
      "outputs": []
    },
    {
      "cell_type": "code",
      "source": [
        "# Fast Gradient Sign Method (FGSM) attack\n",
        "def fgsm_attack(model, x, y, epsilon=0.03):\n",
        "    x = tf.convert_to_tensor(x)  # Convert input to Tensor if not already\n",
        "    y = tf.convert_to_tensor(y)  # Convert labels to Tensor if not already\n",
        "\n",
        "    with tf.GradientTape() as tape:\n",
        "        tape.watch(x)\n",
        "        predictions = model(x)\n",
        "        loss = tf.keras.losses.categorical_crossentropy(y, predictions)\n",
        "    gradient = tape.gradient(loss, x)\n",
        "    x_adv = x + epsilon * tf.sign(gradient)\n",
        "    x_adv = tf.clip_by_value(x_adv, 0, 1)\n",
        "    return x_adv"
      ],
      "metadata": {
        "id": "OlJrYzBeGqB4"
      },
      "execution_count": null,
      "outputs": []
    },
    {
      "cell_type": "code",
      "source": [
        "# Adversarial Training\n",
        "def adversarial_training(model, x_train, y_train, epsilon=0.03, epochs=10, batch_size=32):\n",
        "    for epoch in range(epochs):\n",
        "        x_train_adv = fgsm_attack(model, x_train, y_train, epsilon=epsilon)\n",
        "        model.fit(x_train_adv, y_train, epochs=1, batch_size=batch_size)\n"
      ],
      "metadata": {
        "id": "KDFNWLRrGsTH"
      },
      "execution_count": null,
      "outputs": []
    },
    {
      "cell_type": "code",
      "source": [
        "# Helper function for defensive distillation\n",
        "def softmax_with_temperature(logits, temperature):\n",
        "    exp_logits = np.exp(logits / temperature)\n",
        "    return exp_logits / np.sum(exp_logits, axis=1, keepdims=True)\n"
      ],
      "metadata": {
        "id": "D8SGRYn6GuxG"
      },
      "execution_count": null,
      "outputs": []
    },
    {
      "cell_type": "code",
      "source": [
        "# Generate adversarial data\n",
        "x_test_adv = fgsm_attack(create_model(), x_test, y_test, epsilon=0.03)\n"
      ],
      "metadata": {
        "id": "NmRwA7oMGxAk"
      },
      "execution_count": null,
      "outputs": []
    },
    {
      "cell_type": "code",
      "source": [
        "# Create and train the clean model\n",
        "clean_model = create_model()\n",
        "clean_model.compile(optimizer='adam', loss='categorical_crossentropy', metrics=['accuracy'])\n",
        "clean_model.fit(x_train, y_train, epochs=10, batch_size=32, validation_data=(x_test, y_test))\n"
      ],
      "metadata": {
        "id": "MgDsBu9SGy2m",
        "colab": {
          "base_uri": "https://localhost:8080/"
        },
        "outputId": "16953647-dc60-474d-dd09-a8ff00284117"
      },
      "execution_count": null,
      "outputs": [
        {
          "output_type": "stream",
          "name": "stdout",
          "text": [
            "Epoch 1/10\n",
            "1563/1563 [==============================] - 77s 48ms/step - loss: 1.5519 - accuracy: 0.4336 - val_loss: 1.2947 - val_accuracy: 0.5336\n",
            "Epoch 2/10\n",
            "1563/1563 [==============================] - 77s 49ms/step - loss: 1.1916 - accuracy: 0.5779 - val_loss: 1.0806 - val_accuracy: 0.6171\n",
            "Epoch 3/10\n",
            "1563/1563 [==============================] - 74s 48ms/step - loss: 1.0397 - accuracy: 0.6322 - val_loss: 1.0382 - val_accuracy: 0.6359\n",
            "Epoch 4/10\n",
            "1563/1563 [==============================] - 77s 49ms/step - loss: 0.9376 - accuracy: 0.6720 - val_loss: 0.9516 - val_accuracy: 0.6666\n",
            "Epoch 5/10\n",
            "1563/1563 [==============================] - 78s 50ms/step - loss: 0.8584 - accuracy: 0.6972 - val_loss: 0.9005 - val_accuracy: 0.6840\n",
            "Epoch 6/10\n",
            "1563/1563 [==============================] - 79s 51ms/step - loss: 0.8009 - accuracy: 0.7184 - val_loss: 0.8995 - val_accuracy: 0.6924\n",
            "Epoch 7/10\n",
            "1563/1563 [==============================] - 78s 50ms/step - loss: 0.7545 - accuracy: 0.7365 - val_loss: 0.8595 - val_accuracy: 0.6983\n",
            "Epoch 8/10\n",
            "1563/1563 [==============================] - 86s 55ms/step - loss: 0.7120 - accuracy: 0.7508 - val_loss: 0.8615 - val_accuracy: 0.7063\n",
            "Epoch 9/10\n",
            "1563/1563 [==============================] - 76s 49ms/step - loss: 0.6723 - accuracy: 0.7614 - val_loss: 0.8970 - val_accuracy: 0.6979\n",
            "Epoch 10/10\n",
            "1563/1563 [==============================] - 79s 51ms/step - loss: 0.6407 - accuracy: 0.7744 - val_loss: 0.8611 - val_accuracy: 0.7067\n"
          ]
        },
        {
          "output_type": "execute_result",
          "data": {
            "text/plain": [
              "<keras.callbacks.History at 0x7dbfb44d7b20>"
            ]
          },
          "metadata": {},
          "execution_count": 8
        }
      ]
    },
    {
      "cell_type": "code",
      "source": [
        "# Evaluate accuracy on clean test data\n",
        "_, clean_accuracy = clean_model.evaluate(x_test, y_test, verbose=0)\n"
      ],
      "metadata": {
        "id": "twplPwZRG1CI"
      },
      "execution_count": null,
      "outputs": []
    },
    {
      "cell_type": "code",
      "source": [
        "# Evaluate accuracy on adversarial test data\n",
        "_, clean_adv_accuracy = clean_model.evaluate(x_test_adv, y_test, verbose=0)\n"
      ],
      "metadata": {
        "id": "1-3tuHTvG2_N"
      },
      "execution_count": null,
      "outputs": []
    },
    {
      "cell_type": "code",
      "source": [
        "# Adversarial Training with FGSM attack on clean model\n",
        "adv_model = create_model()\n",
        "adv_model.compile(optimizer='adam', loss='categorical_crossentropy', metrics=['accuracy'])\n",
        "adversarial_training(adv_model, x_train, y_train, epsilon=0.03, epochs=10, batch_size=32)\n"
      ],
      "metadata": {
        "id": "GhCAJiZ6G5I8"
      },
      "execution_count": null,
      "outputs": []
    },
    {
      "cell_type": "code",
      "source": [
        "# Evaluate accuracy of adversarial training model on clean test data\n",
        "_, adv_train_accuracy_clean = adv_model.evaluate(x_test, y_test, verbose=0)\n"
      ],
      "metadata": {
        "id": "GjxBB-irG7VD"
      },
      "execution_count": null,
      "outputs": []
    },
    {
      "cell_type": "code",
      "source": [
        "# Evaluate accuracy of adversarial training model on adversarial test data\n",
        "_, adv_train_accuracy_adv = adv_model.evaluate(x_test_adv, y_test, verbose=0)\n"
      ],
      "metadata": {
        "id": "-VQZK94wG9dS"
      },
      "execution_count": null,
      "outputs": []
    },
    {
      "cell_type": "code",
      "source": [
        "# Adversarial Training with Gradient Masking\n",
        "adv_model_gm = create_model()\n",
        "adv_model_gm.compile(optimizer='adam', loss='categorical_crossentropy', metrics=['accuracy'])\n",
        "for _ in range(10):\n",
        "    x_train_masked = x_train + 0.1 * np.sign(np.random.randn(*x_train.shape))\n",
        "    x_train_masked = np.clip(x_train_masked, 0, 1)\n",
        "    adv_model_gm.fit(x_train_masked, y_train, epochs=1, batch_size=32)\n"
      ],
      "metadata": {
        "id": "_Seo59ZYG_2b"
      },
      "execution_count": null,
      "outputs": []
    },
    {
      "cell_type": "code",
      "source": [
        "# Evaluate accuracy on adversarial training model with gradient masking\n",
        "_, adv_train_accuracy_gm_clean = adv_model_gm.evaluate(x_test, y_test, verbose=0)\n"
      ],
      "metadata": {
        "id": "4LTR5OFUHGjL"
      },
      "execution_count": null,
      "outputs": []
    },
    {
      "cell_type": "code",
      "source": [
        "# Evaluate accuracy on adversarial test data with gradient masking\n",
        "_, adv_train_accuracy_gm_adv = adv_model_gm.evaluate(x_test_adv, y_test, verbose=0)\n"
      ],
      "metadata": {
        "id": "sX7cu7YYHHF6"
      },
      "execution_count": null,
      "outputs": []
    },
    {
      "cell_type": "code",
      "source": [
        "# Defensive Distillation\n",
        "defensive_distillation_model = create_model()\n",
        "defensive_distillation_model.compile(optimizer='adam', loss='categorical_crossentropy', metrics=['accuracy'])\n"
      ],
      "metadata": {
        "id": "xUi8syhxHI8v"
      },
      "execution_count": null,
      "outputs": []
    },
    {
      "cell_type": "code",
      "source": [
        "# Soft targets from the trained model with temperature\n",
        "temperature = 3.0\n",
        "soft_targets = softmax_with_temperature(clean_model.predict(x_train), temperature)\n",
        "soft_targets_test = softmax_with_temperature(clean_model.predict(x_test), temperature)\n",
        "\n",
        "for _ in range(10):\n",
        "    defensive_distillation_model.fit(x_train, soft_targets, epochs=1, batch_size=32)\n"
      ],
      "metadata": {
        "id": "2YCI1VtKHLLp"
      },
      "execution_count": null,
      "outputs": []
    },
    {
      "cell_type": "code",
      "source": [
        "# Evaluate accuracy of defensive distillation model on clean and adversarial test data\n",
        "_, defensive_distillation_clean_accuracy = defensive_distillation_model.evaluate(x_test, y_test, verbose=0)\n",
        "x_test_adv_soft = softmax_with_temperature(clean_model.predict(x_test_adv), temperature)\n",
        "_, defensive_distillation_adv_accuracy = defensive_distillation_model.evaluate(x_test_adv, x_test_adv_soft, verbose=0)\n"
      ],
      "metadata": {
        "id": "yyET208dHNVf"
      },
      "execution_count": null,
      "outputs": []
    },
    {
      "cell_type": "code",
      "source": [
        "# Calculate robustness scores\n",
        "robustness_score_clean = clean_adv_accuracy / clean_accuracy\n",
        "robustness_score_adv = adv_train_accuracy_adv / adv_train_accuracy_clean\n",
        "robustness_score_gm_clean = adv_train_accuracy_gm_clean / clean_accuracy\n",
        "robustness_score_gm_adv = adv_train_accuracy_gm_adv / clean_accuracy\n",
        "robustness_score_dd_clean = defensive_distillation_clean_accuracy / clean_accuracy\n",
        "robustness_score_dd_adv = defensive_distillation_adv_accuracy / clean_accuracy\n"
      ],
      "metadata": {
        "id": "6jOvPP6sHPWH"
      },
      "execution_count": null,
      "outputs": []
    },
    {
      "cell_type": "code",
      "source": [
        "# Generate confusion matrices\n",
        "def generate_confusion_matrix(y_true, y_pred, title):\n",
        "    cm = confusion_matrix(y_true, y_pred)\n",
        "    plt.figure(figsize=(8, 6))\n",
        "    sns.heatmap(cm, annot=True, fmt='d', cmap='Blues', cbar=False)\n",
        "    plt.title(title)\n",
        "    plt.xlabel('Predicted Labels')\n",
        "    plt.ylabel('True Labels')\n",
        "    plt.show()\n"
      ],
      "metadata": {
        "id": "HhVabyICHRJn"
      },
      "execution_count": null,
      "outputs": []
    },
    {
      "cell_type": "code",
      "source": [
        "# Confusion matrix for clean model on clean test data\n",
        "y_pred_clean = np.argmax(clean_model.predict(x_test), axis=1)\n",
        "generate_confusion_matrix(np.argmax(y_test, axis=1), y_pred_clean, \"Confusion Matrix (Clean Model, Clean Test Data)\")\n"
      ],
      "metadata": {
        "id": "e-lv74AWHTj_"
      },
      "execution_count": null,
      "outputs": []
    },
    {
      "cell_type": "code",
      "source": [
        "# Confusion matrix for clean model on adversarial test data\n",
        "y_pred_clean_adv = np.argmax(clean_model.predict(x_test_adv), axis=1)\n",
        "generate_confusion_matrix(np.argmax(y_test, axis=1), y_pred_clean_adv, \"Confusion Matrix (Clean Model, Adversarial Test Data)\")\n"
      ],
      "metadata": {
        "id": "oYa_VoemHV-A"
      },
      "execution_count": null,
      "outputs": []
    },
    {
      "cell_type": "code",
      "source": [
        "# Confusion matrix for adversarial training model on clean test data\n",
        "y_pred_adv_train_clean = np.argmax(adv_model.predict(x_test), axis=1)\n",
        "generate_confusion_matrix(np.argmax(y_test, axis=1), y_pred_adv_train_clean, \"Confusion Matrix (Adversarial Training Model, Clean Test Data)\")\n"
      ],
      "metadata": {
        "id": "qUfV3mgeHX-O"
      },
      "execution_count": null,
      "outputs": []
    },
    {
      "cell_type": "code",
      "source": [
        "# Confusion matrix for adversarial training model on adversarial test data\n",
        "y_pred_adv_train_adv = np.argmax(adv_model.predict(x_test_adv), axis=1)\n",
        "generate_confusion_matrix(np.argmax(y_test, axis=1), y_pred_adv_train_adv, \"Confusion Matrix (Adversarial Training Model, Adversarial Test Data)\")\n"
      ],
      "metadata": {
        "id": "6uSVFJu4HZzn"
      },
      "execution_count": null,
      "outputs": []
    },
    {
      "cell_type": "code",
      "source": [
        "# Confusion matrix for adversarial training model with gradient masking on clean test data\n",
        "y_pred_adv_train_gm_clean = np.argmax(adv_model_gm.predict(x_test), axis=1)\n",
        "generate_confusion_matrix(np.argmax(y_test, axis=1), y_pred_adv_train_gm_clean, \"Confusion Matrix (Adversarial Training Model with Gradient Masking, Clean Test Data)\")\n"
      ],
      "metadata": {
        "id": "eVIfHxd7Hby9"
      },
      "execution_count": null,
      "outputs": []
    },
    {
      "cell_type": "code",
      "source": [
        "# Confusion matrix for adversarial training model with gradient masking on adversarial test data\n",
        "y_pred_adv_train_gm_adv = np.argmax(adv_model_gm.predict(x_test_adv), axis=1)\n",
        "generate_confusion_matrix(np.argmax(y_test, axis=1), y_pred_adv_train_gm_adv, \"Confusion Matrix (Adversarial Training Model with Gradient Masking, Adversarial Test Data)\")\n"
      ],
      "metadata": {
        "id": "72Lsq5MUHdu8"
      },
      "execution_count": null,
      "outputs": []
    },
    {
      "cell_type": "code",
      "source": [
        "# Confusion matrix for defensive distillation model on clean test data\n",
        "y_pred_def_dist_clean = np.argmax(defensive_distillation_model.predict(x_test), axis=1)\n",
        "generate_confusion_matrix(np.argmax(y_test, axis=1), y_pred_def_dist_clean, \"Confusion Matrix (Defensive Distillation Model, Clean Test Data)\")\n"
      ],
      "metadata": {
        "id": "98JrjLn5Hf-a"
      },
      "execution_count": null,
      "outputs": []
    },
    {
      "cell_type": "code",
      "source": [
        "# Confusion matrix for defensive distillation model on adversarial test data\n",
        "y_pred_def_dist_adv = np.argmax(defensive_distillation_model.predict(x_test_adv), axis=1)\n",
        "generate_confusion_matrix(np.argmax(y_test, axis=1), y_pred_def_dist_adv, \"Confusion Matrix (Defensive Distillation Model, Adversarial Test Data)\")\n"
      ],
      "metadata": {
        "id": "wsuq6RwwHiE0"
      },
      "execution_count": null,
      "outputs": []
    },
    {
      "cell_type": "code",
      "source": [
        "# Print accuracy and robustness scores\n",
        "print(\"Clean Model Accuracy:\", clean_accuracy)\n",
        "print(\"Clean Model Robustness Score:\", robustness_score_clean)\n",
        "\n",
        "print(\"Adversarial Training Model Accuracy on Clean Data:\", adv_train_accuracy_clean)\n",
        "print(\"Adversarial Training Model Robustness Score on Clean Data:\", robustness_score_adv)\n",
        "\n",
        "print(\"Adversarial Training Model with Gradient Masking Accuracy on Clean Data:\", adv_train_accuracy_gm_clean)\n",
        "print(\"Adversarial Training Model with Gradient Masking Robustness Score on Clean Data:\", robustness_score_gm_clean)\n",
        "\n",
        "print(\"Defensive Distillation Model Accuracy on Clean Data:\", defensive_distillation_clean_accuracy)\n",
        "print(\"Defensive Distillation Model Robustness Score on Clean Data:\", robustness_score_dd_clean)"
      ],
      "metadata": {
        "id": "hMUDV5OsHkNE"
      },
      "execution_count": null,
      "outputs": []
    },
    {
      "cell_type": "code",
      "source": [
        "# Plot comparison graph\n",
        "labels = ['Clean Model', 'Adv Training', 'GM Model', 'Def Distillation']\n",
        "accuracy_scores = [clean_accuracy, adv_train_accuracy_clean, adv_train_accuracy_gm_clean, defensive_distillation_clean_accuracy]\n",
        "robustness_scores = [robustness_score_clean, robustness_score_adv, robustness_score_gm_clean, robustness_score_dd_clean]\n",
        "\n",
        "fig, ax = plt.subplots(figsize=(10, 6))\n",
        "x = np.arange(len(labels))\n",
        "width = 0.35\n",
        "\n",
        "rects1 = ax.bar(x - width/2, accuracy_scores, width, label='Accuracy')\n",
        "rects2 = ax.bar(x + width/2, robustness_scores, width, label='Robustness')\n",
        "\n",
        "ax.set_ylabel('Scores')\n",
        "ax.set_title('Comparison of Accuracy and Robustness')\n",
        "ax.set_xticks(x)\n",
        "ax.set_xticklabels(labels)\n",
        "ax.legend()\n",
        "\n",
        "fig.tight_layout()\n",
        "plt.show()"
      ],
      "metadata": {
        "id": "e214B3R-Hmvu"
      },
      "execution_count": null,
      "outputs": []
    },
    {
      "cell_type": "code",
      "source": [],
      "metadata": {
        "id": "jHnzcXZwHB7S"
      },
      "execution_count": null,
      "outputs": []
    }
  ]
}